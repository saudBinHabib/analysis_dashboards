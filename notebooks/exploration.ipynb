{
 "cells": [
  {
   "cell_type": "code",
   "execution_count": null,
   "metadata": {},
   "outputs": [],
   "source": [
    "import os\n",
    "import numpy as np\n",
    "\n",
    "\n",
    "from dotenv import load_dotenv\n",
    "\n",
    "from sqlalchemy import func, text\n",
    "from sqlalchemy.orm import Session\n",
    "\n",
    "from typing import List, Tuple, Dict\n",
    "\n",
    "from fcb_data_providers.database_models import Event, Qualifier, Player, Team, Match\n",
    "from fcb_data_providers.database import Database\n",
    "\n",
    "load_dotenv()"
   ]
  },
  {
   "cell_type": "code",
   "execution_count": null,
   "metadata": {},
   "outputs": [],
   "source": [
    "DATABASE_URL=os.getenv(\"DATABASE_URL\")\n",
    "DATA_DIR=os.getenv(\"DATA_DIR\")\n",
    "db = Database(DATABASE_URL)\n",
    "session = db.get_session() "
   ]
  },
  {
   "cell_type": "code",
   "execution_count": null,
   "metadata": {},
   "outputs": [],
   "source": [
    "providers = StatsPerformProvider(data_path=DATA_DIR, database_url=DATABASE_URL)"
   ]
  },
  {
   "cell_type": "code",
   "execution_count": null,
   "metadata": {},
   "outputs": [],
   "source": [
    "providers.process_data()"
   ]
  },
  {
   "cell_type": "code",
   "execution_count": 3,
   "metadata": {},
   "outputs": [],
   "source": [
    "import sys\n",
    "sys.path.insert(0, \"..\")"
   ]
  },
  {
   "cell_type": "code",
   "execution_count": 4,
   "metadata": {},
   "outputs": [],
   "source": [
    "from common.data_provider import get_match_details_from_view_by_match_id"
   ]
  },
  {
   "cell_type": "code",
   "execution_count": null,
   "metadata": {},
   "outputs": [],
   "source": [
    "get_match_details_from_view_by_match_id(session, 'bt9ewry54yyw87kdh2l9p4vmc')"
   ]
  },
  {
   "cell_type": "code",
   "execution_count": 19,
   "metadata": {},
   "outputs": [],
   "source": [
    "match_id = 'bt9ewry54yyw87kdh2l9p4vmc'\n",
    "query = text(f\"\"\"select * from match_details where id = '{match_id}';\"\"\")\n",
    "# Execute raw SQL query using session.execute()\n",
    "query_result = session.execute(query).fetchone()\n",
    "\n",
    "# Create a dictionary from the query results\n",
    "match_details = {\n",
    "    \"match_id\": query_result[0],\n",
    "    \"match_date\": query_result[1],\n",
    "    \"match_status\": query_result[2],\n",
    "    \"teams\": [\n",
    "        {\"team_name\": query_result[3], \"team_id\": query_result[4]},\n",
    "        {\"team_name\": query_result[5], \"team_id\": query_result[6]},\n",
    "    ],\n",
    "    \"winner\": query_result[7],\n",
    "    \"match_length_min\": query_result[8],\n",
    "    \"match_length_sec\": query_result[9],\n",
    "}"
   ]
  },
  {
   "cell_type": "code",
   "execution_count": 16,
   "metadata": {},
   "outputs": [],
   "source": [
    "from logging import Logger\n",
    "\n",
    "from sqlalchemy import text\n",
    "from sqlalchemy.orm.session import Session\n",
    "\n",
    "\n",
    "CREATE_MATCH_DETAIL_VIEW_QUERY = text(\n",
    "    \"\"\"\n",
    "        CREATE OR REPLACE VIEW match_details AS\n",
    "        SELECT\n",
    "            m.id,\n",
    "            m.match_date,\n",
    "            m.match_status,\n",
    "            ht.official_name AS home_team_name,\n",
    "            m.home_team_id,\n",
    "            at.official_name AS away_team_name,\n",
    "            m.away_team_id,\n",
    "            m.winner,\n",
    "            m.match_length_min,\n",
    "            m.match_length_sec\n",
    "        FROM\n",
    "            matches m\n",
    "        JOIN\n",
    "            teams ht ON (m.home_team_id = ht.id)\n",
    "        JOIN\n",
    "            teams at ON (m.away_team_id = at.id);\n",
    "    \"\"\")"
   ]
  },
  {
   "cell_type": "code",
   "execution_count": null,
   "metadata": {},
   "outputs": [],
   "source": [
    "\n",
    "try:\n",
    "    session.execute(CREATE_MATCH_DETAIL_VIEW_QUERY)\n",
    "    session.commit()\n",
    "    print(\"Match details view created successfully\")\n",
    "    \n",
    "except Exception as exc:\n",
    "    session.rollback()\n",
    "    print(f\"Error while creating match details view: {exc}\")"
   ]
  },
  {
   "cell_type": "code",
   "execution_count": null,
   "metadata": {},
   "outputs": [],
   "source": [
    "team_id = \"apoawtpvac4zqlancmvw4nk4o\""
   ]
  },
  {
   "cell_type": "code",
   "execution_count": null,
   "metadata": {},
   "outputs": [],
   "source": [
    "def get_all_passes_by_players_count(session: Session, team_id: str) -> List[Tuple]:\n",
    "    \"\"\"\n",
    "    Retrieving all passes by players count\n",
    "\n",
    "    :param session: Session: Session manager to get the data from database of your choice.\n",
    "    :param team_id: str: Team ID\n",
    "    return: List[tuple]: List of tuples, which contain player name and KPI value count.\n",
    "    \"\"\"\n",
    "    result = (\n",
    "        session.query(Player.match_name, func.count(Event.player_id))\n",
    "        .join(Qualifier, Event.e_id == Qualifier.event_id)\n",
    "        .join(Player, Event.player_id == Player.id)\n",
    "        .filter(\n",
    "            Event.type_id == 1,\n",
    "            Event.team_id == team_id,\n",
    "            ~Qualifier.qualifier_id.in_([2, 107, 123]),\n",
    "        )\n",
    "        .group_by(Player.match_name)\n",
    "        .order_by(Player.match_name)\n",
    "        .all()\n",
    "    )\n",
    "\n",
    "    return result"
   ]
  },
  {
   "cell_type": "code",
   "execution_count": null,
   "metadata": {},
   "outputs": [],
   "source": [
    "get_all_passes_by_players_count(session, team_id)"
   ]
  },
  {
   "cell_type": "code",
   "execution_count": null,
   "metadata": {},
   "outputs": [],
   "source": [
    "\n",
    "def get_successfull_passes_by_players_count(\n",
    "    session: Session, team_id: str\n",
    ") -> List[Tuple]:\n",
    "    \"\"\"\n",
    "    Retrieving all passes by players count\n",
    "\n",
    "    :param session: Session: Session manager to get the data from database of your choice.\n",
    "    :param team_id: str: Team ID\n",
    "    return: List[tuple]: List of tuples, which contain player name and KPI value count.\n",
    "    \"\"\"\n",
    "    result = (\n",
    "        session.query(Player.match_name, func.count(Event.player_id))\n",
    "        .join(Qualifier, Event.e_id == Qualifier.event_id)\n",
    "        .join(Player, Event.player_id == Player.id)\n",
    "        .filter(\n",
    "            Event.type_id == 1,\n",
    "            Event.outcome == \"1\",\n",
    "            Event.team_id == team_id,\n",
    "            ~Qualifier.qualifier_id.in_([2, 107, 123]),\n",
    "        )\n",
    "        .group_by(Player.match_name)\n",
    "        .order_by(Player.match_name)\n",
    "        .all()\n",
    "    )\n",
    "\n",
    "    return result"
   ]
  },
  {
   "cell_type": "code",
   "execution_count": null,
   "metadata": {},
   "outputs": [],
   "source": [
    "get_successfull_passes_by_players_count(session, team_id)"
   ]
  },
  {
   "cell_type": "code",
   "execution_count": null,
   "metadata": {},
   "outputs": [],
   "source": [
    "def get_key_passes_by_players_count(session: Session, team_id: str) -> List[Tuple]:\n",
    "    \"\"\"\n",
    "    Retrieving all passes by players count\n",
    "\n",
    "    :param session: Session: Session manager to get the data from database of your choice.\n",
    "    :param team_id: str: Team ID\n",
    "    return: List[tuple]: List of tuples, which contain player name and KPI value count.\n",
    "    \"\"\"\n",
    "    result = (\n",
    "        session.query(Player.match_name, func.count(Event.player_id))\n",
    "        .join(Qualifier, Event.e_id == Qualifier.event_id)\n",
    "        .join(Player, Event.player_id == Player.id)\n",
    "        .filter(\n",
    "            Event.type_id.in_([13, 14, 15, 60]),  # Multiple type_id values\n",
    "            Event.team_id == team_id,\n",
    "            Qualifier.qualifier_id.in_([29, 55]),  # Specific qualifier_id values\n",
    "        )\n",
    "        .group_by(Player.match_name)\n",
    "        .order_by(Player.match_name)\n",
    "        .all()\n",
    "    )\n",
    "\n",
    "    return result"
   ]
  },
  {
   "cell_type": "code",
   "execution_count": null,
   "metadata": {},
   "outputs": [],
   "source": [
    "get_key_passes_by_players_count(session, team_id)"
   ]
  },
  {
   "cell_type": "code",
   "execution_count": null,
   "metadata": {},
   "outputs": [],
   "source": [
    "def get_long_passes_by_players_count(session: Session, team_id: str) -> List[Tuple]:\n",
    "    \"\"\"\n",
    "    Retrieving all passes by players count\n",
    "\n",
    "    :param session: Session: Session manager to get the data from database of your choice.\n",
    "    :param team_id: str: Team ID\n",
    "    return: List[tuple]: List of tuples, which contain player name and KPI value count.\n",
    "    \"\"\"\n",
    "    result = (\n",
    "        session.query(Player.match_name, func.count(Event.player_id))\n",
    "        .join(Qualifier, Event.e_id == Qualifier.event_id)\n",
    "        .join(Player, Event.player_id == Player.id)\n",
    "        .filter(\n",
    "            Event.type_id == 1,  # Specific event type\n",
    "            Event.team_id == team_id,  # Specific team ID\n",
    "            Qualifier.qualifier_id == 1,  # Specific qualifier ID\n",
    "            ~Qualifier.qualifier_id.in_(\n",
    "                [2, 107, 123]\n",
    "            ),  # Exclusion of certain qualifier IDs\n",
    "        )\n",
    "        .group_by(Player.match_name)\n",
    "        .order_by(Player.match_name)\n",
    "        .all()\n",
    "    )\n",
    "\n",
    "    return result"
   ]
  },
  {
   "cell_type": "code",
   "execution_count": null,
   "metadata": {},
   "outputs": [],
   "source": [
    "get_long_passes_by_players_count(session, team_id)"
   ]
  },
  {
   "cell_type": "code",
   "execution_count": null,
   "metadata": {},
   "outputs": [],
   "source": [
    "def get_shots_on_goals_by_players_count(session: Session, team_id: str) -> List[Tuple]:\n",
    "    \"\"\"\n",
    "    Retrieving all passes by players count\n",
    "\n",
    "    :param session: Session: Session manager to get the data from database of your choice.\n",
    "    :param team_id: str: Team ID\n",
    "    return: List[tuple]: List of tuples, which contain player name and KPI value count.\n",
    "    \"\"\"\n",
    "    result = (\n",
    "        session.query(Player.match_name, func.count(Event.player_id))\n",
    "        .join(Qualifier, Event.e_id == Qualifier.event_id)\n",
    "        .join(Player, Event.player_id == Player.id)\n",
    "        .filter(\n",
    "            Event.type_id.in_([13, 14, 15, 16]),  # Multiple event types\n",
    "            Event.team_id == team_id,  # Specific team ID\n",
    "        )\n",
    "        .group_by(Player.match_name)\n",
    "        .order_by(Player.match_name)\n",
    "        .all()\n",
    "    )\n",
    "\n",
    "    return result"
   ]
  },
  {
   "cell_type": "code",
   "execution_count": null,
   "metadata": {},
   "outputs": [],
   "source": [
    "get_shots_on_goals_by_players_count(session, team_id)"
   ]
  },
  {
   "cell_type": "code",
   "execution_count": null,
   "metadata": {},
   "outputs": [],
   "source": [
    "def get_all_aerials_duels_by_players_count(\n",
    "    session: Session, team_id: str\n",
    ") -> List[Tuple]:\n",
    "    \"\"\"\n",
    "    Retrieving all passes by players count\n",
    "\n",
    "    :param session: Session: Session manager to get the data from database of your choice.\n",
    "    :param team_id: str: Team ID\n",
    "    return: List[tuple]: List of tuples, which contain player name and KPI value count.\n",
    "    \"\"\"\n",
    "    result = (\n",
    "        session.query(Player.match_name, func.count(Event.player_id))\n",
    "        .join(Qualifier, Event.e_id == Qualifier.event_id)\n",
    "        .join(Player, Event.player_id == Player.id)\n",
    "        .filter(\n",
    "            Event.type_id == 4,  # Specific event type\n",
    "            Event.team_id == team_id,  # Specific team ID\n",
    "        )\n",
    "        .group_by(Player.match_name)\n",
    "        .order_by(Player.match_name)\n",
    "        .all()\n",
    "    )\n",
    "\n",
    "    return result"
   ]
  },
  {
   "cell_type": "code",
   "execution_count": null,
   "metadata": {},
   "outputs": [],
   "source": [
    "get_all_aerials_duels_by_players_count(session, team_id)"
   ]
  },
  {
   "cell_type": "code",
   "execution_count": null,
   "metadata": {},
   "outputs": [],
   "source": [
    "def get_successfull_aerials_duels_by_players_count(\n",
    "    session: Session, team_id: str\n",
    ") -> List[Tuple]:\n",
    "    \"\"\"\n",
    "    Retrieving all passes by players count\n",
    "\n",
    "    :param session: Session: Session manager to get the data from database of your choice.\n",
    "    :param team_id: str: Team ID\n",
    "    return: List[tuple]: List of tuples, which contain player name and KPI value count.\n",
    "    \"\"\"\n",
    "    result = (\n",
    "        session.query(Player.match_name, func.count(Event.player_id))\n",
    "        .join(Qualifier, Event.e_id == Qualifier.event_id)\n",
    "        .join(Player, Event.player_id == Player.id)\n",
    "        .filter(\n",
    "            Event.type_id == 4,  # Specific event type\n",
    "            Event.team_id == team_id,  # Specific team ID\n",
    "            Event.outcome == \"1\",  # Specific outcome condition\n",
    "        )\n",
    "        .group_by(Player.match_name)\n",
    "        .order_by(Player.match_name)\n",
    "        .all()\n",
    "    )\n",
    "\n",
    "    return result"
   ]
  },
  {
   "cell_type": "code",
   "execution_count": null,
   "metadata": {},
   "outputs": [],
   "source": [
    "get_successfull_aerials_duels_by_players_count(session, team_id)"
   ]
  },
  {
   "cell_type": "code",
   "execution_count": null,
   "metadata": {},
   "outputs": [],
   "source": [
    "def get_all_metrics(session: Session, team_id: str) -> Dict[str, List[int]]:\n",
    "    \"\"\"\n",
    "    Retrieve and combine various player statistics for a given team.\n",
    "\n",
    "    Args:\n",
    "        session: SQLAlchemy session\n",
    "        team_id: Team ID\n",
    "    \"\"\"\n",
    "    # Retrieve statistics\n",
    "    all_passes = get_all_passes_by_players_count(session, team_id)\n",
    "    successful_passes = get_successfull_passes_by_players_count(session, team_id)\n",
    "    key_passes = get_key_passes_by_players_count(session, team_id)\n",
    "    long_passes = get_long_passes_by_players_count(session, team_id)\n",
    "    shots_on_goal = get_shots_on_goals_by_players_count(session, team_id)\n",
    "    all_aerial_duels = get_all_aerials_duels_by_players_count(session, team_id)\n",
    "    successful_aerial_duels = get_successfull_aerials_duels_by_players_count(\n",
    "        session, team_id\n",
    "    )\n",
    "\n",
    "    return (\n",
    "        all_passes,\n",
    "        successful_passes,\n",
    "        key_passes,\n",
    "        long_passes,\n",
    "        shots_on_goal,\n",
    "        all_aerial_duels,\n",
    "        successful_aerial_duels,\n",
    "    )"
   ]
  },
  {
   "cell_type": "code",
   "execution_count": null,
   "metadata": {},
   "outputs": [],
   "source": [
    "(\n",
    "    all_passes,\n",
    "    successful_passes,\n",
    "    key_passes,\n",
    "    long_passes,\n",
    "    shots_on_goal,\n",
    "    all_aerial_duels,\n",
    "    successful_aerial_duels,\n",
    ") = get_all_metrics(session, team_id)"
   ]
  },
  {
   "cell_type": "code",
   "execution_count": null,
   "metadata": {},
   "outputs": [],
   "source": [
    "all_passes"
   ]
  },
  {
   "cell_type": "code",
   "execution_count": null,
   "metadata": {},
   "outputs": [],
   "source": [
    "\n",
    "def z_score_normalize_with_scaling(\n",
    "    data: List[Tuple[str, int]], \n",
    "    scale_min: float = 0, \n",
    "    scale_max: float = 100\n",
    ") -> List[Tuple[str, float]]:\n",
    "    \"\"\"\n",
    "    Perform Z-score normalization with optional scaling\n",
    "    \n",
    "    Args:\n",
    "        data (List[Tuple[str, int]]): List of tuples with (name, value)\n",
    "        scale_min (float): Minimum of scaling range\n",
    "        scale_max (float): Maximum of scaling range\n",
    "    \n",
    "    Returns:\n",
    "        List[Tuple[str, float]]: List of tuples with scaled normalized values\n",
    "    \"\"\"\n",
    "    # Extract values for normalization\n",
    "    values = [item[1] for item in data]\n",
    "    \n",
    "    # Calculate Z-score\n",
    "    mean = np.mean(values)\n",
    "    std = np.std(values)\n",
    "    \n",
    "    # Handle edge case of zero standard deviation\n",
    "    if std == 0:\n",
    "        normalized_values = [scale_min] * len(values)\n",
    "    else:\n",
    "        # Z-score calculation\n",
    "        z_scores = [(x - mean) / std for x in values]\n",
    "        \n",
    "        # Optional scaling to desired range\n",
    "        normalized_values = [\n",
    "            scale_min + (zscore - min(z_scores)) * (scale_max - scale_min) / \n",
    "            (max(z_scores) - min(z_scores))\n",
    "            for zscore in z_scores\n",
    "        ]\n",
    "    \n",
    "    # Reconstruct the list of tuples with normalized values\n",
    "    return [(name, norm_value) for (name, _), norm_value in zip(data, normalized_values)]\n"
   ]
  },
  {
   "cell_type": "code",
   "execution_count": null,
   "metadata": {},
   "outputs": [],
   "source": [
    "normalized_data = z_score_normalize_with_scaling(all_passes)"
   ]
  },
  {
   "cell_type": "code",
   "execution_count": null,
   "metadata": {},
   "outputs": [],
   "source": [
    "for original, normalized in zip(all_passes, normalized_data):\n",
    "        print(f\"{original} -> {normalized}\")"
   ]
  },
  {
   "cell_type": "code",
   "execution_count": null,
   "metadata": {},
   "outputs": [],
   "source": [
    "from collections import defaultdict\n",
    "\n",
    "def combine_player_stats(*metrics: List[Tuple[str, int]], default_value: int = 0) -> Dict[str, List[int]]:\n",
    "    \"\"\"\n",
    "    Combine multiple lists of player statistics, ensuring consistent player names\n",
    "    and filling missing values with a default.\n",
    "    \n",
    "    Args:\n",
    "        *lists: Variable number of lists containing (player_name, value) tuples\n",
    "        default_value: Value to use when a player is missing from a list\n",
    "    \n",
    "    Returns:\n",
    "        Dictionary with player names as keys and lists of values from each input list\n",
    "    \"\"\"\n",
    "    # Collect all unique player names\n",
    "    all_players = set()\n",
    "    for metric in metrics:\n",
    "        all_players.update(player for player, _ in metric)\n",
    "    \n",
    "    # Create a result dictionary with default structure\n",
    "    result = {player: [default_value] * len(metrics) for player in all_players}\n",
    "    \n",
    "    # Populate the dictionary\n",
    "    for idx, metric in enumerate(metrics):\n",
    "        for player, value in metric:\n",
    "            result[player][idx] = value\n",
    "    \n",
    "    return result\n"
   ]
  },
  {
   "cell_type": "code",
   "execution_count": null,
   "metadata": {},
   "outputs": [],
   "source": [
    "normalized_all_passes = z_score_normalize_with_scaling(all_passes)\n",
    "normalized_successful_passes = z_score_normalize_with_scaling(successful_passes)\n",
    "normalized_key_passes = z_score_normalize_with_scaling(key_passes)\n",
    "normalized_long_passes = z_score_normalize_with_scaling(long_passes)\n",
    "normalized_shots_on_goal = z_score_normalize_with_scaling(shots_on_goal)\n",
    "normalized_all_aerial_duels = z_score_normalize_with_scaling(all_aerial_duels)\n",
    "normalized_successful_aerial_duels = z_score_normalize_with_scaling(successful_aerial_duels)\n"
   ]
  },
  {
   "cell_type": "code",
   "execution_count": null,
   "metadata": {},
   "outputs": [],
   "source": [
    "normalized_player_data = combine_player_stats(normalized_all_passes, normalized_successful_passes, normalized_key_passes, normalized_long_passes, normalized_shots_on_goal, normalized_all_aerial_duels, normalized_successful_aerial_duels)"
   ]
  },
  {
   "cell_type": "code",
   "execution_count": null,
   "metadata": {},
   "outputs": [],
   "source": [
    "normalized_player_data"
   ]
  },
  {
   "cell_type": "code",
   "execution_count": null,
   "metadata": {},
   "outputs": [],
   "source": [
    "players_data = combine_player_stats(all_passes, successful_passes, key_passes, long_passes, shots_on_goal, all_aerial_duels, successful_aerial_duels)"
   ]
  },
  {
   "cell_type": "code",
   "execution_count": null,
   "metadata": {},
   "outputs": [],
   "source": [
    "all_passes_dict =  [{pas[0]: pas[1]} for pas in all_passes]"
   ]
  },
  {
   "cell_type": "code",
   "execution_count": null,
   "metadata": {},
   "outputs": [],
   "source": [
    "all_passes_dict"
   ]
  },
  {
   "cell_type": "code",
   "execution_count": null,
   "metadata": {},
   "outputs": [],
   "source": [
    "players_data"
   ]
  },
  {
   "cell_type": "code",
   "execution_count": null,
   "metadata": {},
   "outputs": [],
   "source": [
    "all_passes"
   ]
  },
  {
   "cell_type": "code",
   "execution_count": null,
   "metadata": {},
   "outputs": [],
   "source": [
    "import pandas as pd"
   ]
  },
  {
   "cell_type": "code",
   "execution_count": null,
   "metadata": {},
   "outputs": [],
   "source": [
    "METRICS = [\n",
    "    \"Number of Passes\",\n",
    "    \"Successful Passes\",\n",
    "    \"Number of Key Passes\",\n",
    "    \"Number of Long Passes\",\n",
    "    \"Number of Shots on Goal\",\n",
    "    \"Number of Aerial Duels\",\n",
    "    \"Aerial Duel Success\",\n",
    "]"
   ]
  },
  {
   "cell_type": "code",
   "execution_count": null,
   "metadata": {},
   "outputs": [],
   "source": [
    "\n",
    "player = pd.DataFrame(players_data, index=METRICS).T"
   ]
  },
  {
   "cell_type": "code",
   "execution_count": null,
   "metadata": {},
   "outputs": [],
   "source": [
    "player"
   ]
  },
  {
   "cell_type": "code",
   "execution_count": null,
   "metadata": {},
   "outputs": [],
   "source": [
    "type(player)"
   ]
  },
  {
   "cell_type": "code",
   "execution_count": null,
   "metadata": {},
   "outputs": [],
   "source": [
    "all_passes"
   ]
  },
  {
   "cell_type": "code",
   "execution_count": null,
   "metadata": {},
   "outputs": [],
   "source": [
    "normalized_data = z_score_normalize_with_scaling(all_passes)"
   ]
  },
  {
   "cell_type": "code",
   "execution_count": null,
   "metadata": {},
   "outputs": [],
   "source": [
    "normalized_data"
   ]
  },
  {
   "cell_type": "code",
   "execution_count": null,
   "metadata": {},
   "outputs": [],
   "source": []
  }
 ],
 "metadata": {
  "kernelspec": {
   "display_name": ".venv",
   "language": "python",
   "name": "python3"
  },
  "language_info": {
   "codemirror_mode": {
    "name": "ipython",
    "version": 3
   },
   "file_extension": ".py",
   "mimetype": "text/x-python",
   "name": "python",
   "nbconvert_exporter": "python",
   "pygments_lexer": "ipython3",
   "version": "3.12.8"
  }
 },
 "nbformat": 4,
 "nbformat_minor": 2
}
